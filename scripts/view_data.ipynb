{
 "cells": [
  {
   "cell_type": "code",
   "execution_count": null,
   "metadata": {},
   "outputs": [
    {
     "ename": "",
     "evalue": "",
     "output_type": "error",
     "traceback": [
      "\u001b[1;31mRunning cells with 'trade (Python 3.12.5)' requires the ipykernel package.\n",
      "\u001b[1;31mRun the following command to install 'ipykernel' into the Python environment. \n",
      "\u001b[1;31mCommand: 'conda install -n trade ipykernel --update-deps --force-reinstall'"
     ]
    }
   ],
   "source": [
    "import pandas as pd\n",
    "import matplotlib.pyplot as plt\n",
    "import sqlite3\n",
    "import os\n",
    "\n",
    "\n",
    "# Use absolute path\n",
    "BASE_DIR = os.path.dirname(os.path.abspath(__file__))\n",
    "DATABASE_PATH = os.path.join(BASE_DIR, '../data/stock_data.db')\n",
    "\n",
    "def create_connection():\n",
    "    \"\"\" Create a database connection to the SQLite database \"\"\"\n",
    "    conn = None\n",
    "    try:\n",
    "        conn = sqlite3.connect(DATABASE_PATH)\n",
    "        print(f\"Connected to the database at {DATABASE_PATH}\")\n",
    "    except sqlite3.Error as e:\n",
    "        print(f\"Error connecting to the database: {e}\")\n",
    "    return conn\n",
    "\n",
    "def visualize_stock_data(ticker):\n",
    "    \"\"\" Visualize stock prices from the database \"\"\"\n",
    "    conn = create_connection()\n",
    "    if conn:\n",
    "        query = f\"SELECT date_time, close_price FROM stock_data WHERE ticker='{ticker}'\"\n",
    "        df = pd.read_sql_query(query, conn)\n",
    "        conn.close()\n",
    "\n",
    "        # Convert date_time to datetime for plotting\n",
    "        df['date_time'] = pd.to_datetime(df['date_time'])\n",
    "\n",
    "        # Plotting\n",
    "        plt.figure(figsize=(12, 6))\n",
    "        plt.plot(df['date_time'], df['close_price'], marker='o', linestyle='-', color='b')\n",
    "        plt.title(f'Stock Prices for {ticker}')\n",
    "        plt.xlabel('Date and Time')\n",
    "        plt.ylabel('Close Price')\n",
    "        plt.xticks(rotation=45)\n",
    "        plt.grid()\n",
    "        plt.tight_layout()\n",
    "        plt.show()\n",
    "    \n",
    "if __name__ == '__main__':\n",
    "    visualize_stock_data('AAPl') "
   ]
  }
 ],
 "metadata": {
  "interpreter": {
   "hash": "e404b59586357c814bc0d3940e75d6763c00a48753b225b81f7716971b8e1741"
  },
  "kernelspec": {
   "display_name": "Python 3.8.1 64-bit",
   "name": "python3"
  },
  "language_info": {
   "codemirror_mode": {
    "name": "ipython",
    "version": 3
   },
   "file_extension": ".py",
   "mimetype": "text/x-python",
   "name": "python",
   "nbconvert_exporter": "python",
   "pygments_lexer": "ipython3",
   "version": "3.12.5"
  },
  "orig_nbformat": 4
 },
 "nbformat": 4,
 "nbformat_minor": 2
}
